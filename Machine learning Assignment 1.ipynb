{
 "cells": [
  {
   "cell_type": "markdown",
   "metadata": {},
   "source": [
    "1 What is the most appropriate no. of clusters for the data points represented by the following dendrogram:\n",
    "\n",
    "Answer: \n",
    "\n",
    "b) 4"
   ]
  },
  {
   "cell_type": "markdown",
   "metadata": {},
   "source": [
    "2. In which of the following cases will K-Means clustering fail to give good results?\n",
    "\n",
    "1. Data points with outliers\n",
    "\n",
    "2. Data points with different densities\n",
    "\n",
    "3. Data points with round shapes\n",
    "\n",
    "4. Data points with non-convex shapes\n",
    "\n",
    "Answer:\n",
    "\n",
    "d) 1, 2 and 4"
   ]
  },
  {
   "cell_type": "markdown",
   "metadata": {},
   "source": [
    "3. The most important part of __________________ is selecting the variables on which clustering is based.\n",
    "\n",
    "Answer: \n",
    "\n",
    "d) formulating the clustering problem"
   ]
  },
  {
   "cell_type": "markdown",
   "metadata": {},
   "source": [
    "4. The most commonly used measure of similarity is the ____________ or its square.\n",
    "Answer:\n",
    "\n",
    "a) Euclidean distance"
   ]
  },
  {
   "cell_type": "markdown",
   "metadata": {},
   "source": [
    "  5.   ___  is a clustering procedure where all objects start out in one giant cluster. Clusters are formed by dividing this cluster into smaller and smaller clusters.\n",
    "\n",
    "\n",
    "Answer:\n",
    "\n",
    "b) Divisive clustering"
   ]
  },
  {
   "cell_type": "markdown",
   "metadata": {},
   "source": [
    "6. Which of the following is required by K-means clustering?\n",
    "\n",
    "Answer:\n",
    "\n",
    "d) All answers are correct"
   ]
  },
  {
   "cell_type": "markdown",
   "metadata": {},
   "source": [
    "7. The goal of clustering is to-\n",
    "\n",
    "Answer:\n",
    "\n",
    "a) Divide the data points into groups"
   ]
  },
  {
   "cell_type": "markdown",
   "metadata": {},
   "source": [
    "8. Clustering is a-\n",
    "\n",
    "Answer:\n",
    "\n",
    "b) Unsupervised learning\n"
   ]
  },
  {
   "cell_type": "markdown",
   "metadata": {},
   "source": [
    "9. Which of the following clustering algorithms suffers from the problem of convergence at local optima?\n",
    "\n",
    "Answer:\n",
    "\n",
    "a) K- Means clustering"
   ]
  },
  {
   "cell_type": "markdown",
   "metadata": {},
   "source": [
    "10. Which version of the clustering algorithm is most sensitive to outliers?\n",
    "\n",
    "Answer:\n",
    "\n",
    "a) K-means clustering algorithm"
   ]
  },
  {
   "cell_type": "markdown",
   "metadata": {},
   "source": [
    "11. Which of the following is a bad characteristic of a dataset for clustering analysis-\n",
    "\n",
    "Answer:\n",
    "\n",
    "d) All of the above"
   ]
  },
  {
   "cell_type": "markdown",
   "metadata": {},
   "source": [
    "12. For clustering, we do not require-\n",
    "\n",
    "Answer:\n",
    "\n",
    "a) Labeled data"
   ]
  },
  {
   "cell_type": "markdown",
   "metadata": {},
   "source": [
    "13. How is cluster analysis calculated?\n",
    "\n",
    "Answer:\n",
    "    \n",
    "    In clustering analysis the following steps are present:\n",
    "    1. Guess or select the number of clusters(k).\n",
    "    2. Randomly pick k data points in the dataset and assume them to be centroids of the would be clusters.\n",
    "    3. For each data point in the dataset calculate it's distance from all the centroids and assign it to the cluster whose centriod is nearest.\n",
    "    4. Find new centriod for each of the k clusters. Measure within cluster sum of squares(WCSS) for each cluster and sum them.\n",
    "    5. Repeat steps 3 and 4 untill the total WCSS converges."
   ]
  },
  {
   "cell_type": "markdown",
   "metadata": {},
   "source": [
    "14. How is cluster quality measured?\n",
    "\n",
    "Answer:\n",
    "    The cluster quality is measured by various methods; two of them are discussed bellow. Please note the distances referred in the methods can be Euclidean, Manhatton or Minkowski of any degree depending on the problem statement.\n",
    "    \n",
    "        1. Elbow method: In this method clustering is done using various k values and corresponding WCSS is calculated. Then the WCSS is plotted as a function of k. Clearly for low k values WCSS is high and the WCSS is a monotonically decreasing function of k. But as it is seen after a critical value of k the decrease in WCSS starts behaving asymptotically and an elbow like structure is seen at that critical value of k. This value of k is then used in the final clustering.\n",
    "        2. Silhouette method: Here a perticular metric called Silhouette score(s) is measured for each k. Silhouette score is a measurement of comparison between mean same-cluster distance for a data point and mean distance for nearest neighbouring cluster. The score can vary between -1 to +1. The metric is designed in such a way that a high mean for Silhouette score for entire data set and non-negative Silhouette score for individual data points denote a good cluster quality."
   ]
  },
  {
   "cell_type": "markdown",
   "metadata": {},
   "source": [
    "15. What is cluster analysis and its types?\n",
    "\n",
    "Answer: Cluster analysis is an unsupervised machine learning technique where no target variable is present to predict but we are to find any pattern or substructure within the data. There are mainly two types of analyses, namely:\n",
    "\n",
    "    1. K means(Partioning) Clustering: In this algorithm the number of cluster is given by hand and hence have a room for ambiguity.\n",
    "    2. Hierarchical Clustering:\n",
    "        2_a. Agglomerative Clustering: Here all points are considered as individual clusters to begin with and then clubbed together according to their relative distance with each other.\n",
    "        2_b. Divisive Clustering: This algorith assumes all the data in the dataset to be in a single cluster then using dissimilarity index the cluster is broken repetatively.\n",
    "     \n",
    "     In both the heirarchical clustering dendrographs are used to draw determine how many clusters should be considered.\n",
    "    3. DBSCAN (Density Based) Clustering: Here a hypersphere of dimension equal to the number of features and radius of a given smalllness parameter is scanned over the entire data set to find a given number of data point within the hypersphere and include them in a cluster. This resolves many limitaions of the clustering methods mentioned above.  \n",
    "    "
   ]
  },
  {
   "cell_type": "code",
   "execution_count": null,
   "metadata": {},
   "outputs": [],
   "source": []
  }
 ],
 "metadata": {
  "kernelspec": {
   "display_name": "Python 3",
   "language": "python",
   "name": "python3"
  },
  "language_info": {
   "codemirror_mode": {
    "name": "ipython",
    "version": 3
   },
   "file_extension": ".py",
   "mimetype": "text/x-python",
   "name": "python",
   "nbconvert_exporter": "python",
   "pygments_lexer": "ipython3",
   "version": "3.7.6"
  }
 },
 "nbformat": 4,
 "nbformat_minor": 4
}
