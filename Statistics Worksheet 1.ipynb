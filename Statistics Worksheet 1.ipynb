{
 "cells": [
  {
   "cell_type": "markdown",
   "metadata": {},
   "source": [
    "1. Bernoulli random variables take (only) the values 1 and 0.\n",
    "\n",
    "Answer:\n",
    "\n",
    "    a) True"
   ]
  },
  {
   "cell_type": "markdown",
   "metadata": {},
   "source": [
    "2.\n",
    "Which of the following theorem states that the distribution of averages of iid variables, properly\n",
    "normalized, becomes that of a standard normal as the sample size increases?\n",
    "\n",
    "Answer:\n",
    "\n",
    "    a) Central Limit Theorem\n",
    "\n",
    "###### Note that in the above answers \"iid variables\" is assumed to be \"independent variables\""
   ]
  },
  {
   "cell_type": "markdown",
   "metadata": {},
   "source": [
    "3.\n",
    "Which of the following is incorrect with respect to use of Poisson distribution?\n",
    "\n",
    "Answer:\n",
    "\n",
    "    b) Modeling bounded count data"
   ]
  },
  {
   "cell_type": "markdown",
   "metadata": {},
   "source": [
    "4.\n",
    "Point out the correct statement.\n",
    "\n",
    "\n",
    "Answer:\n",
    "        \n",
    "        d) All of the mentioned"
   ]
  },
  {
   "cell_type": "markdown",
   "metadata": {},
   "source": [
    "5.\n",
    "______ random variables are used to model rates.\n",
    "\n",
    "Answer:\n",
    "\n",
    "        c) Poisson\n"
   ]
  },
  {
   "cell_type": "markdown",
   "metadata": {},
   "source": [
    "6.\n",
    "10. Usually replacing the standard error by its estimated value does change the CLT.\n",
    "\n",
    "Answer:\n",
    "\n",
    "       b) False"
   ]
  },
  {
   "cell_type": "markdown",
   "metadata": {},
   "source": [
    "7.\n",
    "1. Which of the following testing is concerned with making decisions using data?\n",
    "\n",
    "Answer:\n",
    "\n",
    "    b) Hypothesis"
   ]
  },
  {
   "cell_type": "markdown",
   "metadata": {},
   "source": [
    "8.\n",
    "4. Normalized data are centered at______and have units equal to standard deviations of the\n",
    "original data.\n",
    "\n",
    "Answer:\n",
    "\n",
    "\n",
    "    a) 0"
   ]
  },
  {
   "cell_type": "markdown",
   "metadata": {},
   "source": [
    "9. Which of the following statement is incorrect with respect to outliers?\n",
    "\n",
    "Answer:\n",
    "        \n",
    "        c) Outliers cannot conform to the regression relationship"
   ]
  },
  {
   "cell_type": "markdown",
   "metadata": {},
   "source": [
    "10. What do you understand by the term Normal Distribution?\n",
    "\n",
    "Answer:\n",
    "    \n",
    "       If a random variable has a probability distribution function f(x)=A exp(0.5*((x-m)/s)^2) then the variable is said to follow Normal distribution; where m is mean of the random variable, s is standard deviation of the variable and A is a constant designed to make the entire area under the curve equal to 1. \n",
    "    \n",
    "       The function looks bell shaped. Typically for well behaved data s signfies width of the distribution at half maxima."
   ]
  },
  {
   "cell_type": "markdown",
   "metadata": {},
   "source": [
    "11. How do you handle missing data? What imputation techniques do you recommend?\n",
    "\n",
    "Answer:\n",
    "\n",
    "        Handling Missing Data:\n",
    "        \n",
    "        The method to handel missing data is totally dependent on the problem at hand and the data type. It may so happen that the very fact that the data is missing is an useful data; as an example- the missing criminal record of a politican during election is an useful insight for the voters.\n",
    "        \n",
    "        If the missing data is very very less in number compared to total data sometimes its better not to include those data to train the model. Similarly if a feature has missing value for almost all the data instances then it is better to drop that column.\n",
    "        \n",
    "        For continuous variable without outliers replacing missing value with mean or median is suitable; if outliers cannot be removed then missing valued should be reolaced by median only.\n",
    "        \n",
    "        For categorical variable missing values should be replaced with mode of that variable.\n",
    "        \n",
    "        Imputation techniques:\n",
    "        \n",
    "        To begin with and for most of the use cases simple imputer from sklearn library works fine with strategy which is suitable for the data(discussed above).\n",
    "        \n",
    "        If the data is very valuable then one can use other non missing variable to use regressing technique and give a value for the missing variable. There are various methods for that like iterative imputer or knn imputer.\n",
    "        "
   ]
  },
  {
   "cell_type": "markdown",
   "metadata": {},
   "source": [
    "12. What is A/B testing?\n",
    "\n",
    "Answer:\n",
    "    \n",
    "        A/B testing is a test where with respect to a control population two values of a random variable is tested statistically for a desired output."
   ]
  },
  {
   "cell_type": "markdown",
   "metadata": {},
   "source": [
    "13. Is mean imputation of missing data acceptable practice?\n",
    "\n",
    "Answer:\n",
    "    \n",
    "    No, because: \n",
    "        1. The mean imputed values are not really related to the output values via the model under consideration.\n",
    "        \n",
    "        2.  As mean is essentially the point where data is centered mean imputation gives a reduced error for a given model even when the model is not performing very well."
   ]
  },
  {
   "cell_type": "markdown",
   "metadata": {},
   "source": [
    "14. What is linear regression in statistics?\n",
    "\n",
    "Answer:\n",
    "\n",
    "       Linear regression is a model where the target variable is considered to be linearly dependent on the independent variables. Essentially it boils down to finding the slope of the line and the y axis intersection by minimizing the sum of squared distances between the original and predicted target variable. "
   ]
  },
  {
   "cell_type": "markdown",
   "metadata": {},
   "source": [
    "15. What are the various branches of statistics?\n",
    "\n",
    "Answer:\n",
    "\n",
    "        Two main branches of statistics are descriptive statistics and inferential statistics."
   ]
  },
  {
   "cell_type": "code",
   "execution_count": null,
   "metadata": {},
   "outputs": [],
   "source": []
  }
 ],
 "metadata": {
  "kernelspec": {
   "display_name": "Python 3",
   "language": "python",
   "name": "python3"
  },
  "language_info": {
   "codemirror_mode": {
    "name": "ipython",
    "version": 3
   },
   "file_extension": ".py",
   "mimetype": "text/x-python",
   "name": "python",
   "nbconvert_exporter": "python",
   "pygments_lexer": "ipython3",
   "version": "3.7.6"
  }
 },
 "nbformat": 4,
 "nbformat_minor": 4
}
