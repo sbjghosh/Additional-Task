{
 "cells": [
  {
   "cell_type": "markdown",
   "metadata": {},
   "source": [
    "1. Which of the following is/are DDL commands in SQL?\n",
    "Answer:\n",
    "\n",
    "\n",
    "A) Create\n",
    "\n",
    "D) ALTER"
   ]
  },
  {
   "cell_type": "markdown",
   "metadata": {},
   "source": [
    "2. Which of the following is/are DML commands in SQL?\n",
    "\n",
    "Answer:\n",
    "\n",
    "A) Update\n",
    "\n",
    "B) Delete\n"
   ]
  },
  {
   "cell_type": "markdown",
   "metadata": {},
   "source": [
    "3. Full form of SQL is:\n",
    "\n",
    "Answer:\n",
    "\n",
    "B) Structured Query Language"
   ]
  },
  {
   "cell_type": "markdown",
   "metadata": {},
   "source": [
    "4. Full form of DDL is:\n",
    "\n",
    "Answer:\n",
    "\n",
    "B) Data Definition Language"
   ]
  },
  {
   "cell_type": "markdown",
   "metadata": {},
   "source": [
    "5. DML is:\n",
    "\n",
    "Answer:\n",
    "\n",
    "A) Data Manipulation Language"
   ]
  },
  {
   "cell_type": "markdown",
   "metadata": {},
   "source": [
    "6. Which of the following statements can be used to create a table with column B int type and C float type?\n",
    "\n",
    "Answer:\n",
    "    \n",
    "C) Create Table A (B int,C float)"
   ]
  },
  {
   "cell_type": "markdown",
   "metadata": {},
   "source": [
    "7. Which of the following statements can be used to add a column D (float type) to the table A created\n",
    "above?\n",
    "\n",
    "Answer\n",
    "\n",
    "B) Alter Table A ADD COLUMN D float\n",
    "\n"
   ]
  },
  {
   "cell_type": "markdown",
   "metadata": {},
   "source": [
    "8. Which of the following statements can be used to drop the column added in the above question?\n",
    "\n",
    "Answer:\n",
    "    \n",
    "B) Alter Table A Drop Column D"
   ]
  },
  {
   "cell_type": "markdown",
   "metadata": {},
   "source": [
    "9. Which of the following statements can be used to change the data type (from float to int ) of the column\n",
    "D of table A created in above questions?\n",
    "\n",
    "Answer:\n",
    "    \n",
    "B) Alter Table A Alter Column D int"
   ]
  },
  {
   "cell_type": "markdown",
   "metadata": {},
   "source": [
    "10. Suppose we want to make Column B of Table A as primary key of the table. By which of the following\n",
    "statements we can do it?\n",
    "\n",
    "Answer:\n",
    "    \n",
    "C) Alter Table A Add Primary key B\n"
   ]
  },
  {
   "cell_type": "markdown",
   "metadata": {},
   "source": [
    "11. What is data-warehouse?\n",
    "\n",
    "Answer:\n",
    "\n",
    "Data-warehouse is a system where multiple databases are organized to be extracted for business needs."
   ]
  },
  {
   "cell_type": "markdown",
   "metadata": {},
   "source": [
    "12. What is the difference between OLTP VS OLAP?\n",
    "\n",
    "Answer:\n",
    "\n",
    "OLTP deals with transaction processing, it mainly consists of present data and used in the application oriented day to day operations. On the other hand OLAP is for analytical processing which contains historical data and used to draw business decissions and intelligence. Clearly the data of OLTP is less in size compared to OLAP."
   ]
  },
  {
   "cell_type": "markdown",
   "metadata": {},
   "source": [
    "13. What are the various characteristics of data-warehouse?\n",
    "\n",
    "Answer:\n",
    "\n",
    "a. It is subject oriented in nature and is not structured to support day to day operations.\n",
    "\n",
    "b. It stores data from different databases in a manned which is universal within the data warehouse; or in other words it is integrated.\n",
    "\n",
    "c. It stores the time stamp information of the data very meticulously, almost like a primary key.\n",
    "\n",
    "d. The data it contains is read only and constantly updated so that it remains non-volatile."
   ]
  },
  {
   "cell_type": "markdown",
   "metadata": {},
   "source": [
    "14. What is Star-Schema??\n",
    "\n",
    "Answer:\n",
    "\n",
    "A star schema is a schema that looks like a star with a central facts table and various dimension tables linked directly with the facts table. "
   ]
  },
  {
   "cell_type": "markdown",
   "metadata": {},
   "source": [
    "15. What do you mean by SETL?\n",
    "\n",
    "Answer:\n",
    "\n",
    "SEt Theory as a Language."
   ]
  },
  {
   "cell_type": "code",
   "execution_count": null,
   "metadata": {},
   "outputs": [],
   "source": []
  }
 ],
 "metadata": {
  "kernelspec": {
   "display_name": "Python 3",
   "language": "python",
   "name": "python3"
  },
  "language_info": {
   "codemirror_mode": {
    "name": "ipython",
    "version": 3
   },
   "file_extension": ".py",
   "mimetype": "text/x-python",
   "name": "python",
   "nbconvert_exporter": "python",
   "pygments_lexer": "ipython3",
   "version": "3.7.6"
  }
 },
 "nbformat": 4,
 "nbformat_minor": 4
}
